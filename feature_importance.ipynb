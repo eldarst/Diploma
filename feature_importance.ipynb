{
 "cells": [
  {
   "cell_type": "code",
   "execution_count": 1,
   "metadata": {
    "collapsed": true,
    "pycharm": {
     "name": "#%%\n"
    }
   },
   "outputs": [],
   "source": [
    "import numpy as np\n",
    "import pandas as pd"
   ]
  },
  {
   "cell_type": "code",
   "execution_count": 2,
   "outputs": [],
   "source": [
    "mri_csv = pd.read_csv('archive/oasis_longitudinal.csv')\n",
    "mri_csv['Group'].replace('Converted', 'Demented', inplace=True)"
   ],
   "metadata": {
    "collapsed": false,
    "pycharm": {
     "name": "#%%\n"
    }
   }
  },
  {
   "cell_type": "code",
   "execution_count": 3,
   "outputs": [
    {
     "data": {
      "text/plain": "            Visit     MR Delay         Age        EDUC         SES  \\\ncount  373.000000   373.000000  373.000000  373.000000  354.000000   \nmean     1.882038   595.104558   77.013405   14.597855    2.460452   \nstd      0.922843   635.485118    7.640957    2.876339    1.134005   \nmin      1.000000     0.000000   60.000000    6.000000    1.000000   \n25%      1.000000     0.000000   71.000000   12.000000    2.000000   \n50%      2.000000   552.000000   77.000000   15.000000    2.000000   \n75%      2.000000   873.000000   82.000000   16.000000    3.000000   \nmax      5.000000  2639.000000   98.000000   23.000000    5.000000   \n\n             MMSE         CDR         eTIV        nWBV         ASF  \ncount  371.000000  373.000000   373.000000  373.000000  373.000000  \nmean    27.342318    0.290885  1488.128686    0.729568    1.195461  \nstd      3.683244    0.374557   176.139286    0.037135    0.138092  \nmin      4.000000    0.000000  1106.000000    0.644000    0.876000  \n25%     27.000000    0.000000  1357.000000    0.700000    1.099000  \n50%     29.000000    0.000000  1470.000000    0.729000    1.194000  \n75%     30.000000    0.500000  1597.000000    0.756000    1.293000  \nmax     30.000000    2.000000  2004.000000    0.837000    1.587000  ",
      "text/html": "<div>\n<style scoped>\n    .dataframe tbody tr th:only-of-type {\n        vertical-align: middle;\n    }\n\n    .dataframe tbody tr th {\n        vertical-align: top;\n    }\n\n    .dataframe thead th {\n        text-align: right;\n    }\n</style>\n<table border=\"1\" class=\"dataframe\">\n  <thead>\n    <tr style=\"text-align: right;\">\n      <th></th>\n      <th>Visit</th>\n      <th>MR Delay</th>\n      <th>Age</th>\n      <th>EDUC</th>\n      <th>SES</th>\n      <th>MMSE</th>\n      <th>CDR</th>\n      <th>eTIV</th>\n      <th>nWBV</th>\n      <th>ASF</th>\n    </tr>\n  </thead>\n  <tbody>\n    <tr>\n      <th>count</th>\n      <td>373.000000</td>\n      <td>373.000000</td>\n      <td>373.000000</td>\n      <td>373.000000</td>\n      <td>354.000000</td>\n      <td>371.000000</td>\n      <td>373.000000</td>\n      <td>373.000000</td>\n      <td>373.000000</td>\n      <td>373.000000</td>\n    </tr>\n    <tr>\n      <th>mean</th>\n      <td>1.882038</td>\n      <td>595.104558</td>\n      <td>77.013405</td>\n      <td>14.597855</td>\n      <td>2.460452</td>\n      <td>27.342318</td>\n      <td>0.290885</td>\n      <td>1488.128686</td>\n      <td>0.729568</td>\n      <td>1.195461</td>\n    </tr>\n    <tr>\n      <th>std</th>\n      <td>0.922843</td>\n      <td>635.485118</td>\n      <td>7.640957</td>\n      <td>2.876339</td>\n      <td>1.134005</td>\n      <td>3.683244</td>\n      <td>0.374557</td>\n      <td>176.139286</td>\n      <td>0.037135</td>\n      <td>0.138092</td>\n    </tr>\n    <tr>\n      <th>min</th>\n      <td>1.000000</td>\n      <td>0.000000</td>\n      <td>60.000000</td>\n      <td>6.000000</td>\n      <td>1.000000</td>\n      <td>4.000000</td>\n      <td>0.000000</td>\n      <td>1106.000000</td>\n      <td>0.644000</td>\n      <td>0.876000</td>\n    </tr>\n    <tr>\n      <th>25%</th>\n      <td>1.000000</td>\n      <td>0.000000</td>\n      <td>71.000000</td>\n      <td>12.000000</td>\n      <td>2.000000</td>\n      <td>27.000000</td>\n      <td>0.000000</td>\n      <td>1357.000000</td>\n      <td>0.700000</td>\n      <td>1.099000</td>\n    </tr>\n    <tr>\n      <th>50%</th>\n      <td>2.000000</td>\n      <td>552.000000</td>\n      <td>77.000000</td>\n      <td>15.000000</td>\n      <td>2.000000</td>\n      <td>29.000000</td>\n      <td>0.000000</td>\n      <td>1470.000000</td>\n      <td>0.729000</td>\n      <td>1.194000</td>\n    </tr>\n    <tr>\n      <th>75%</th>\n      <td>2.000000</td>\n      <td>873.000000</td>\n      <td>82.000000</td>\n      <td>16.000000</td>\n      <td>3.000000</td>\n      <td>30.000000</td>\n      <td>0.500000</td>\n      <td>1597.000000</td>\n      <td>0.756000</td>\n      <td>1.293000</td>\n    </tr>\n    <tr>\n      <th>max</th>\n      <td>5.000000</td>\n      <td>2639.000000</td>\n      <td>98.000000</td>\n      <td>23.000000</td>\n      <td>5.000000</td>\n      <td>30.000000</td>\n      <td>2.000000</td>\n      <td>2004.000000</td>\n      <td>0.837000</td>\n      <td>1.587000</td>\n    </tr>\n  </tbody>\n</table>\n</div>"
     },
     "execution_count": 3,
     "metadata": {},
     "output_type": "execute_result"
    }
   ],
   "source": [
    "mri_csv.describe()"
   ],
   "metadata": {
    "collapsed": false,
    "pycharm": {
     "name": "#%%\n"
    }
   }
  },
  {
   "cell_type": "code",
   "execution_count": 4,
   "outputs": [
    {
     "name": "stderr",
     "output_type": "stream",
     "text": [
      "/var/folders/25/hkg7hrfn7130z9vkbc1z1h580000gn/T/ipykernel_30727/2516103592.py:1: FutureWarning: The default value of numeric_only in DataFrame.mean is deprecated. In a future version, it will default to False. In addition, specifying 'numeric_only=None' is deprecated. Select only valid columns or specify the value of numeric_only to silence this warning.\n",
      "  mri_csv = mri_csv.fillna(mri_csv.mean())\n"
     ]
    },
    {
     "data": {
      "text/plain": "    Subject ID         MRI ID        Group  Visit  MR Delay M/F Hand  Age  \\\n0    OAS2_0001  OAS2_0001_MR1  Nondemented      1         0   M    R   87   \n1    OAS2_0001  OAS2_0001_MR2  Nondemented      2       457   M    R   88   \n2    OAS2_0002  OAS2_0002_MR1     Demented      1         0   M    R   75   \n3    OAS2_0002  OAS2_0002_MR2     Demented      2       560   M    R   76   \n4    OAS2_0002  OAS2_0002_MR3     Demented      3      1895   M    R   80   \n..         ...            ...          ...    ...       ...  ..  ...  ...   \n368  OAS2_0185  OAS2_0185_MR2     Demented      2       842   M    R   82   \n369  OAS2_0185  OAS2_0185_MR3     Demented      3      2297   M    R   86   \n370  OAS2_0186  OAS2_0186_MR1  Nondemented      1         0   F    R   61   \n371  OAS2_0186  OAS2_0186_MR2  Nondemented      2       763   F    R   63   \n372  OAS2_0186  OAS2_0186_MR3  Nondemented      3      1608   F    R   65   \n\n     EDUC       SES  MMSE  CDR  eTIV   nWBV    ASF  \n0      14  2.000000  27.0  0.0  1987  0.696  0.883  \n1      14  2.000000  30.0  0.0  2004  0.681  0.876  \n2      12  2.460452  23.0  0.5  1678  0.736  1.046  \n3      12  2.460452  28.0  0.5  1738  0.713  1.010  \n4      12  2.460452  22.0  0.5  1698  0.701  1.034  \n..    ...       ...   ...  ...   ...    ...    ...  \n368    16  1.000000  28.0  0.5  1693  0.694  1.037  \n369    16  1.000000  26.0  0.5  1688  0.675  1.040  \n370    13  2.000000  30.0  0.0  1319  0.801  1.331  \n371    13  2.000000  30.0  0.0  1327  0.796  1.323  \n372    13  2.000000  30.0  0.0  1333  0.801  1.317  \n\n[373 rows x 15 columns]",
      "text/html": "<div>\n<style scoped>\n    .dataframe tbody tr th:only-of-type {\n        vertical-align: middle;\n    }\n\n    .dataframe tbody tr th {\n        vertical-align: top;\n    }\n\n    .dataframe thead th {\n        text-align: right;\n    }\n</style>\n<table border=\"1\" class=\"dataframe\">\n  <thead>\n    <tr style=\"text-align: right;\">\n      <th></th>\n      <th>Subject ID</th>\n      <th>MRI ID</th>\n      <th>Group</th>\n      <th>Visit</th>\n      <th>MR Delay</th>\n      <th>M/F</th>\n      <th>Hand</th>\n      <th>Age</th>\n      <th>EDUC</th>\n      <th>SES</th>\n      <th>MMSE</th>\n      <th>CDR</th>\n      <th>eTIV</th>\n      <th>nWBV</th>\n      <th>ASF</th>\n    </tr>\n  </thead>\n  <tbody>\n    <tr>\n      <th>0</th>\n      <td>OAS2_0001</td>\n      <td>OAS2_0001_MR1</td>\n      <td>Nondemented</td>\n      <td>1</td>\n      <td>0</td>\n      <td>M</td>\n      <td>R</td>\n      <td>87</td>\n      <td>14</td>\n      <td>2.000000</td>\n      <td>27.0</td>\n      <td>0.0</td>\n      <td>1987</td>\n      <td>0.696</td>\n      <td>0.883</td>\n    </tr>\n    <tr>\n      <th>1</th>\n      <td>OAS2_0001</td>\n      <td>OAS2_0001_MR2</td>\n      <td>Nondemented</td>\n      <td>2</td>\n      <td>457</td>\n      <td>M</td>\n      <td>R</td>\n      <td>88</td>\n      <td>14</td>\n      <td>2.000000</td>\n      <td>30.0</td>\n      <td>0.0</td>\n      <td>2004</td>\n      <td>0.681</td>\n      <td>0.876</td>\n    </tr>\n    <tr>\n      <th>2</th>\n      <td>OAS2_0002</td>\n      <td>OAS2_0002_MR1</td>\n      <td>Demented</td>\n      <td>1</td>\n      <td>0</td>\n      <td>M</td>\n      <td>R</td>\n      <td>75</td>\n      <td>12</td>\n      <td>2.460452</td>\n      <td>23.0</td>\n      <td>0.5</td>\n      <td>1678</td>\n      <td>0.736</td>\n      <td>1.046</td>\n    </tr>\n    <tr>\n      <th>3</th>\n      <td>OAS2_0002</td>\n      <td>OAS2_0002_MR2</td>\n      <td>Demented</td>\n      <td>2</td>\n      <td>560</td>\n      <td>M</td>\n      <td>R</td>\n      <td>76</td>\n      <td>12</td>\n      <td>2.460452</td>\n      <td>28.0</td>\n      <td>0.5</td>\n      <td>1738</td>\n      <td>0.713</td>\n      <td>1.010</td>\n    </tr>\n    <tr>\n      <th>4</th>\n      <td>OAS2_0002</td>\n      <td>OAS2_0002_MR3</td>\n      <td>Demented</td>\n      <td>3</td>\n      <td>1895</td>\n      <td>M</td>\n      <td>R</td>\n      <td>80</td>\n      <td>12</td>\n      <td>2.460452</td>\n      <td>22.0</td>\n      <td>0.5</td>\n      <td>1698</td>\n      <td>0.701</td>\n      <td>1.034</td>\n    </tr>\n    <tr>\n      <th>...</th>\n      <td>...</td>\n      <td>...</td>\n      <td>...</td>\n      <td>...</td>\n      <td>...</td>\n      <td>...</td>\n      <td>...</td>\n      <td>...</td>\n      <td>...</td>\n      <td>...</td>\n      <td>...</td>\n      <td>...</td>\n      <td>...</td>\n      <td>...</td>\n      <td>...</td>\n    </tr>\n    <tr>\n      <th>368</th>\n      <td>OAS2_0185</td>\n      <td>OAS2_0185_MR2</td>\n      <td>Demented</td>\n      <td>2</td>\n      <td>842</td>\n      <td>M</td>\n      <td>R</td>\n      <td>82</td>\n      <td>16</td>\n      <td>1.000000</td>\n      <td>28.0</td>\n      <td>0.5</td>\n      <td>1693</td>\n      <td>0.694</td>\n      <td>1.037</td>\n    </tr>\n    <tr>\n      <th>369</th>\n      <td>OAS2_0185</td>\n      <td>OAS2_0185_MR3</td>\n      <td>Demented</td>\n      <td>3</td>\n      <td>2297</td>\n      <td>M</td>\n      <td>R</td>\n      <td>86</td>\n      <td>16</td>\n      <td>1.000000</td>\n      <td>26.0</td>\n      <td>0.5</td>\n      <td>1688</td>\n      <td>0.675</td>\n      <td>1.040</td>\n    </tr>\n    <tr>\n      <th>370</th>\n      <td>OAS2_0186</td>\n      <td>OAS2_0186_MR1</td>\n      <td>Nondemented</td>\n      <td>1</td>\n      <td>0</td>\n      <td>F</td>\n      <td>R</td>\n      <td>61</td>\n      <td>13</td>\n      <td>2.000000</td>\n      <td>30.0</td>\n      <td>0.0</td>\n      <td>1319</td>\n      <td>0.801</td>\n      <td>1.331</td>\n    </tr>\n    <tr>\n      <th>371</th>\n      <td>OAS2_0186</td>\n      <td>OAS2_0186_MR2</td>\n      <td>Nondemented</td>\n      <td>2</td>\n      <td>763</td>\n      <td>F</td>\n      <td>R</td>\n      <td>63</td>\n      <td>13</td>\n      <td>2.000000</td>\n      <td>30.0</td>\n      <td>0.0</td>\n      <td>1327</td>\n      <td>0.796</td>\n      <td>1.323</td>\n    </tr>\n    <tr>\n      <th>372</th>\n      <td>OAS2_0186</td>\n      <td>OAS2_0186_MR3</td>\n      <td>Nondemented</td>\n      <td>3</td>\n      <td>1608</td>\n      <td>F</td>\n      <td>R</td>\n      <td>65</td>\n      <td>13</td>\n      <td>2.000000</td>\n      <td>30.0</td>\n      <td>0.0</td>\n      <td>1333</td>\n      <td>0.801</td>\n      <td>1.317</td>\n    </tr>\n  </tbody>\n</table>\n<p>373 rows × 15 columns</p>\n</div>"
     },
     "execution_count": 4,
     "metadata": {},
     "output_type": "execute_result"
    }
   ],
   "source": [
    "mri_csv = mri_csv.fillna(mri_csv.mean())\n",
    "mri_csv"
   ],
   "metadata": {
    "collapsed": false,
    "pycharm": {
     "name": "#%%\n"
    }
   }
  },
  {
   "cell_type": "code",
   "execution_count": 5,
   "outputs": [
    {
     "data": {
      "text/plain": "            Visit     MR Delay         Age        EDUC         SES  \\\ncount  373.000000   373.000000  373.000000  373.000000  373.000000   \nmean     1.882038   595.104558   77.013405   14.597855    2.460452   \nstd      0.922843   635.485118    7.640957    2.876339    1.104665   \nmin      1.000000     0.000000   60.000000    6.000000    1.000000   \n25%      1.000000     0.000000   71.000000   12.000000    2.000000   \n50%      2.000000   552.000000   77.000000   15.000000    2.000000   \n75%      2.000000   873.000000   82.000000   16.000000    3.000000   \nmax      5.000000  2639.000000   98.000000   23.000000    5.000000   \n\n             MMSE         CDR         eTIV        nWBV         ASF  \ncount  373.000000  373.000000   373.000000  373.000000  373.000000  \nmean    27.342318    0.290885  1488.128686    0.729568    1.195461  \nstd      3.673329    0.374557   176.139286    0.037135    0.138092  \nmin      4.000000    0.000000  1106.000000    0.644000    0.876000  \n25%     27.000000    0.000000  1357.000000    0.700000    1.099000  \n50%     29.000000    0.000000  1470.000000    0.729000    1.194000  \n75%     30.000000    0.500000  1597.000000    0.756000    1.293000  \nmax     30.000000    2.000000  2004.000000    0.837000    1.587000  ",
      "text/html": "<div>\n<style scoped>\n    .dataframe tbody tr th:only-of-type {\n        vertical-align: middle;\n    }\n\n    .dataframe tbody tr th {\n        vertical-align: top;\n    }\n\n    .dataframe thead th {\n        text-align: right;\n    }\n</style>\n<table border=\"1\" class=\"dataframe\">\n  <thead>\n    <tr style=\"text-align: right;\">\n      <th></th>\n      <th>Visit</th>\n      <th>MR Delay</th>\n      <th>Age</th>\n      <th>EDUC</th>\n      <th>SES</th>\n      <th>MMSE</th>\n      <th>CDR</th>\n      <th>eTIV</th>\n      <th>nWBV</th>\n      <th>ASF</th>\n    </tr>\n  </thead>\n  <tbody>\n    <tr>\n      <th>count</th>\n      <td>373.000000</td>\n      <td>373.000000</td>\n      <td>373.000000</td>\n      <td>373.000000</td>\n      <td>373.000000</td>\n      <td>373.000000</td>\n      <td>373.000000</td>\n      <td>373.000000</td>\n      <td>373.000000</td>\n      <td>373.000000</td>\n    </tr>\n    <tr>\n      <th>mean</th>\n      <td>1.882038</td>\n      <td>595.104558</td>\n      <td>77.013405</td>\n      <td>14.597855</td>\n      <td>2.460452</td>\n      <td>27.342318</td>\n      <td>0.290885</td>\n      <td>1488.128686</td>\n      <td>0.729568</td>\n      <td>1.195461</td>\n    </tr>\n    <tr>\n      <th>std</th>\n      <td>0.922843</td>\n      <td>635.485118</td>\n      <td>7.640957</td>\n      <td>2.876339</td>\n      <td>1.104665</td>\n      <td>3.673329</td>\n      <td>0.374557</td>\n      <td>176.139286</td>\n      <td>0.037135</td>\n      <td>0.138092</td>\n    </tr>\n    <tr>\n      <th>min</th>\n      <td>1.000000</td>\n      <td>0.000000</td>\n      <td>60.000000</td>\n      <td>6.000000</td>\n      <td>1.000000</td>\n      <td>4.000000</td>\n      <td>0.000000</td>\n      <td>1106.000000</td>\n      <td>0.644000</td>\n      <td>0.876000</td>\n    </tr>\n    <tr>\n      <th>25%</th>\n      <td>1.000000</td>\n      <td>0.000000</td>\n      <td>71.000000</td>\n      <td>12.000000</td>\n      <td>2.000000</td>\n      <td>27.000000</td>\n      <td>0.000000</td>\n      <td>1357.000000</td>\n      <td>0.700000</td>\n      <td>1.099000</td>\n    </tr>\n    <tr>\n      <th>50%</th>\n      <td>2.000000</td>\n      <td>552.000000</td>\n      <td>77.000000</td>\n      <td>15.000000</td>\n      <td>2.000000</td>\n      <td>29.000000</td>\n      <td>0.000000</td>\n      <td>1470.000000</td>\n      <td>0.729000</td>\n      <td>1.194000</td>\n    </tr>\n    <tr>\n      <th>75%</th>\n      <td>2.000000</td>\n      <td>873.000000</td>\n      <td>82.000000</td>\n      <td>16.000000</td>\n      <td>3.000000</td>\n      <td>30.000000</td>\n      <td>0.500000</td>\n      <td>1597.000000</td>\n      <td>0.756000</td>\n      <td>1.293000</td>\n    </tr>\n    <tr>\n      <th>max</th>\n      <td>5.000000</td>\n      <td>2639.000000</td>\n      <td>98.000000</td>\n      <td>23.000000</td>\n      <td>5.000000</td>\n      <td>30.000000</td>\n      <td>2.000000</td>\n      <td>2004.000000</td>\n      <td>0.837000</td>\n      <td>1.587000</td>\n    </tr>\n  </tbody>\n</table>\n</div>"
     },
     "execution_count": 5,
     "metadata": {},
     "output_type": "execute_result"
    }
   ],
   "source": [
    "mri_csv.describe()"
   ],
   "metadata": {
    "collapsed": false,
    "pycharm": {
     "name": "#%%\n"
    }
   }
  },
  {
   "cell_type": "code",
   "execution_count": 6,
   "outputs": [
    {
     "data": {
      "text/plain": "  Subject ID         MRI ID        Group  Visit  MR Delay M/F Hand  Age  EDUC  \\\n0  OAS2_0001  OAS2_0001_MR1  Nondemented      1         0   M    R   87    14   \n1  OAS2_0001  OAS2_0001_MR2  Nondemented      2       457   M    R   88    14   \n2  OAS2_0002  OAS2_0002_MR1     Demented      1         0   M    R   75    12   \n3  OAS2_0002  OAS2_0002_MR2     Demented      2       560   M    R   76    12   \n4  OAS2_0002  OAS2_0002_MR3     Demented      3      1895   M    R   80    12   \n\n        SES  MMSE  CDR  eTIV   nWBV    ASF  \n0  2.000000  27.0  0.0  1987  0.696  0.883  \n1  2.000000  30.0  0.0  2004  0.681  0.876  \n2  2.460452  23.0  0.5  1678  0.736  1.046  \n3  2.460452  28.0  0.5  1738  0.713  1.010  \n4  2.460452  22.0  0.5  1698  0.701  1.034  ",
      "text/html": "<div>\n<style scoped>\n    .dataframe tbody tr th:only-of-type {\n        vertical-align: middle;\n    }\n\n    .dataframe tbody tr th {\n        vertical-align: top;\n    }\n\n    .dataframe thead th {\n        text-align: right;\n    }\n</style>\n<table border=\"1\" class=\"dataframe\">\n  <thead>\n    <tr style=\"text-align: right;\">\n      <th></th>\n      <th>Subject ID</th>\n      <th>MRI ID</th>\n      <th>Group</th>\n      <th>Visit</th>\n      <th>MR Delay</th>\n      <th>M/F</th>\n      <th>Hand</th>\n      <th>Age</th>\n      <th>EDUC</th>\n      <th>SES</th>\n      <th>MMSE</th>\n      <th>CDR</th>\n      <th>eTIV</th>\n      <th>nWBV</th>\n      <th>ASF</th>\n    </tr>\n  </thead>\n  <tbody>\n    <tr>\n      <th>0</th>\n      <td>OAS2_0001</td>\n      <td>OAS2_0001_MR1</td>\n      <td>Nondemented</td>\n      <td>1</td>\n      <td>0</td>\n      <td>M</td>\n      <td>R</td>\n      <td>87</td>\n      <td>14</td>\n      <td>2.000000</td>\n      <td>27.0</td>\n      <td>0.0</td>\n      <td>1987</td>\n      <td>0.696</td>\n      <td>0.883</td>\n    </tr>\n    <tr>\n      <th>1</th>\n      <td>OAS2_0001</td>\n      <td>OAS2_0001_MR2</td>\n      <td>Nondemented</td>\n      <td>2</td>\n      <td>457</td>\n      <td>M</td>\n      <td>R</td>\n      <td>88</td>\n      <td>14</td>\n      <td>2.000000</td>\n      <td>30.0</td>\n      <td>0.0</td>\n      <td>2004</td>\n      <td>0.681</td>\n      <td>0.876</td>\n    </tr>\n    <tr>\n      <th>2</th>\n      <td>OAS2_0002</td>\n      <td>OAS2_0002_MR1</td>\n      <td>Demented</td>\n      <td>1</td>\n      <td>0</td>\n      <td>M</td>\n      <td>R</td>\n      <td>75</td>\n      <td>12</td>\n      <td>2.460452</td>\n      <td>23.0</td>\n      <td>0.5</td>\n      <td>1678</td>\n      <td>0.736</td>\n      <td>1.046</td>\n    </tr>\n    <tr>\n      <th>3</th>\n      <td>OAS2_0002</td>\n      <td>OAS2_0002_MR2</td>\n      <td>Demented</td>\n      <td>2</td>\n      <td>560</td>\n      <td>M</td>\n      <td>R</td>\n      <td>76</td>\n      <td>12</td>\n      <td>2.460452</td>\n      <td>28.0</td>\n      <td>0.5</td>\n      <td>1738</td>\n      <td>0.713</td>\n      <td>1.010</td>\n    </tr>\n    <tr>\n      <th>4</th>\n      <td>OAS2_0002</td>\n      <td>OAS2_0002_MR3</td>\n      <td>Demented</td>\n      <td>3</td>\n      <td>1895</td>\n      <td>M</td>\n      <td>R</td>\n      <td>80</td>\n      <td>12</td>\n      <td>2.460452</td>\n      <td>22.0</td>\n      <td>0.5</td>\n      <td>1698</td>\n      <td>0.701</td>\n      <td>1.034</td>\n    </tr>\n  </tbody>\n</table>\n</div>"
     },
     "execution_count": 6,
     "metadata": {},
     "output_type": "execute_result"
    }
   ],
   "source": [
    "mri_csv.head()"
   ],
   "metadata": {
    "collapsed": false,
    "pycharm": {
     "name": "#%%\n"
    }
   }
  },
  {
   "cell_type": "code",
   "execution_count": 7,
   "outputs": [],
   "source": [
    "def count_all_ig(X, y):\n",
    "    n_samples, n_feats = X.shape\n",
    "\n",
    "    feat_idxs = np.random.choice(n_feats, n_feats, replace=False)\n",
    "    n_labels = len(np.unique(y))\n",
    "    best_gains = []\n",
    "    for feat_idx in feat_idxs:\n",
    "        column = X.columns[feat_idx]\n",
    "        col = X[column]\n",
    "        # col = X[:,feat_idx]\n",
    "        best_ig = -1\n",
    "        thresholds = np.unique(col)\n",
    "\n",
    "        for thr in thresholds:\n",
    "            gain = information_gain(y, col.values, thr)\n",
    "            best_ig = max(best_ig, gain)\n",
    "\n",
    "        best_gains.append((best_ig, column))\n",
    "    return best_gains\n",
    "\n",
    "\n",
    "# entropy(parent) - [weighted entropy](children)\n",
    "def information_gain(y, col, thr):\n",
    "    parent_entropy = entropy(y)\n",
    "    l_idxs, r_idxs = create_children(col, thr)\n",
    "\n",
    "    if len(l_idxs) == 0 or len(r_idxs) == 0:\n",
    "        return 0\n",
    "\n",
    "    # calculate the weighted avg. entropy of children\n",
    "    n = len(y)\n",
    "    n_l, n_r = len(l_idxs), len(r_idxs)\n",
    "    e_l, e_r = entropy(y[l_idxs]), entropy(y[r_idxs])\n",
    "    child_entropy = (n_l/n) * e_l + (n_r/n) * e_r\n",
    "\n",
    "    # calculate the IG\n",
    "    information_gain = parent_entropy - child_entropy\n",
    "    return information_gain\n",
    "\n",
    "\n",
    "def entropy(y):\n",
    "    hist = np.bincount(y)\n",
    "    ps = hist / len(y)\n",
    "    return -np.sum([p * np.log(p) for p in ps if p > 0])\n",
    "\n",
    "\n",
    "def create_children(col, thr):\n",
    "    left_idxs = np.argwhere(col <= thr).flatten()\n",
    "    right_idxs = np.argwhere(col > thr).flatten()\n",
    "    return left_idxs, right_idxs"
   ],
   "metadata": {
    "collapsed": false,
    "pycharm": {
     "name": "#%%\n"
    }
   }
  },
  {
   "cell_type": "code",
   "execution_count": 8,
   "outputs": [
    {
     "data": {
      "text/plain": "array([1, 1, 0, 0, 0, 1, 1, 1, 1, 1])"
     },
     "execution_count": 8,
     "metadata": {},
     "output_type": "execute_result"
    }
   ],
   "source": [
    "from sklearn import preprocessing\n",
    "\n",
    "y = mri_csv['Group']\n",
    "le_y = preprocessing.LabelEncoder()\n",
    "le_y.fit(y)\n",
    "y = le_y.transform(y)\n",
    "y[0:10]"
   ],
   "metadata": {
    "collapsed": false,
    "pycharm": {
     "name": "#%%\n"
    }
   }
  },
  {
   "cell_type": "code",
   "execution_count": 9,
   "outputs": [
    {
     "data": {
      "text/plain": "   Visit  MR Delay  M/F  Age  EDUC       SES  MMSE  CDR  eTIV   nWBV    ASF\n0      1         0    1   87    14  2.000000  27.0  0.0  1987  0.696  0.883\n1      2       457    1   88    14  2.000000  30.0  0.0  2004  0.681  0.876\n2      1         0    1   75    12  2.460452  23.0  0.5  1678  0.736  1.046\n3      2       560    1   76    12  2.460452  28.0  0.5  1738  0.713  1.010\n4      3      1895    1   80    12  2.460452  22.0  0.5  1698  0.701  1.034",
      "text/html": "<div>\n<style scoped>\n    .dataframe tbody tr th:only-of-type {\n        vertical-align: middle;\n    }\n\n    .dataframe tbody tr th {\n        vertical-align: top;\n    }\n\n    .dataframe thead th {\n        text-align: right;\n    }\n</style>\n<table border=\"1\" class=\"dataframe\">\n  <thead>\n    <tr style=\"text-align: right;\">\n      <th></th>\n      <th>Visit</th>\n      <th>MR Delay</th>\n      <th>M/F</th>\n      <th>Age</th>\n      <th>EDUC</th>\n      <th>SES</th>\n      <th>MMSE</th>\n      <th>CDR</th>\n      <th>eTIV</th>\n      <th>nWBV</th>\n      <th>ASF</th>\n    </tr>\n  </thead>\n  <tbody>\n    <tr>\n      <th>0</th>\n      <td>1</td>\n      <td>0</td>\n      <td>1</td>\n      <td>87</td>\n      <td>14</td>\n      <td>2.000000</td>\n      <td>27.0</td>\n      <td>0.0</td>\n      <td>1987</td>\n      <td>0.696</td>\n      <td>0.883</td>\n    </tr>\n    <tr>\n      <th>1</th>\n      <td>2</td>\n      <td>457</td>\n      <td>1</td>\n      <td>88</td>\n      <td>14</td>\n      <td>2.000000</td>\n      <td>30.0</td>\n      <td>0.0</td>\n      <td>2004</td>\n      <td>0.681</td>\n      <td>0.876</td>\n    </tr>\n    <tr>\n      <th>2</th>\n      <td>1</td>\n      <td>0</td>\n      <td>1</td>\n      <td>75</td>\n      <td>12</td>\n      <td>2.460452</td>\n      <td>23.0</td>\n      <td>0.5</td>\n      <td>1678</td>\n      <td>0.736</td>\n      <td>1.046</td>\n    </tr>\n    <tr>\n      <th>3</th>\n      <td>2</td>\n      <td>560</td>\n      <td>1</td>\n      <td>76</td>\n      <td>12</td>\n      <td>2.460452</td>\n      <td>28.0</td>\n      <td>0.5</td>\n      <td>1738</td>\n      <td>0.713</td>\n      <td>1.010</td>\n    </tr>\n    <tr>\n      <th>4</th>\n      <td>3</td>\n      <td>1895</td>\n      <td>1</td>\n      <td>80</td>\n      <td>12</td>\n      <td>2.460452</td>\n      <td>22.0</td>\n      <td>0.5</td>\n      <td>1698</td>\n      <td>0.701</td>\n      <td>1.034</td>\n    </tr>\n  </tbody>\n</table>\n</div>"
     },
     "execution_count": 9,
     "metadata": {},
     "output_type": "execute_result"
    }
   ],
   "source": [
    "X = mri_csv.iloc[:, 3:]\n",
    "le_X = preprocessing.LabelEncoder()\n",
    "le_X.fit(X['M/F'])\n",
    "X['M/F'] = le_X.transform(X['M/F'])\n",
    "X.drop('Hand', inplace=True, axis=1)\n",
    "# le_X.fit(X['Hand'])\n",
    "# X['Hand'] = le_X.transform(X['Hand'])\n",
    "# columns = X.columns\n",
    "columns = X.columns.values\n",
    "X.head()"
   ],
   "metadata": {
    "collapsed": false,
    "pycharm": {
     "name": "#%%\n"
    }
   }
  },
  {
   "cell_type": "code",
   "execution_count": null,
   "outputs": [],
   "source": [
    "scaler = preprocessing.MinMaxScaler()\n",
    "scaler.fit(X)\n",
    "\n",
    "X = scaler.transform(X)\n",
    "X"
   ],
   "metadata": {
    "collapsed": false,
    "pycharm": {
     "name": "#%%\n"
    }
   }
  },
  {
   "cell_type": "code",
   "execution_count": 19,
   "outputs": [],
   "source": [
    "from sklearn.inspection import permutation_importance\n",
    "from sklearn.model_selection import train_test_split\n",
    "from sklearn.pipeline import make_pipeline\n",
    "from sklearn.preprocessing import StandardScaler\n",
    "from sklearn.svm import SVC\n",
    "\n",
    "clf = make_pipeline(StandardScaler(), SVC(gamma='auto'))\n",
    "\n",
    "X_train, X_val, y_train, y_val = train_test_split(X, y, random_state=0)\n",
    "\n",
    "model = clf.fit(X_train, y_train)\n",
    "\n",
    "r = permutation_importance(model, X_val, y_val,\n",
    "                           n_repeats=30,\n",
    "                           random_state=0)"
   ],
   "metadata": {
    "collapsed": false,
    "pycharm": {
     "name": "#%%\n"
    }
   }
  },
  {
   "cell_type": "code",
   "execution_count": 20,
   "outputs": [
    {
     "name": "stdout",
     "output_type": "stream",
     "text": [
      "CDR     0.378 +/- 0.047\n",
      "MMSE    0.041 +/- 0.019\n",
      "EDUC    0.007 +/- 0.006\n",
      "eTIV    0.001 +/- 0.003\n",
      "nWBV    0.001 +/- 0.003\n",
      "ASF     0.000 +/- 0.002\n"
     ]
    }
   ],
   "source": [
    "for i in r.importances_mean.argsort()[::-1]:\n",
    "    if r.importances_mean[i] > 0:\n",
    "        print(f\"{X.columns[i]:<8}\"\n",
    "                 f\"{r.importances_mean[i]:.3f}\"\n",
    "                f\" +/- {r.importances_std[i]:.3f}\")\n"
   ],
   "metadata": {
    "collapsed": false,
    "pycharm": {
     "name": "#%%\n"
    }
   }
  }
 ],
 "metadata": {
  "kernelspec": {
   "display_name": "Python 3",
   "language": "python",
   "name": "python3"
  },
  "language_info": {
   "codemirror_mode": {
    "name": "ipython",
    "version": 2
   },
   "file_extension": ".py",
   "mimetype": "text/x-python",
   "name": "python",
   "nbconvert_exporter": "python",
   "pygments_lexer": "ipython2",
   "version": "2.7.6"
  }
 },
 "nbformat": 4,
 "nbformat_minor": 0
}