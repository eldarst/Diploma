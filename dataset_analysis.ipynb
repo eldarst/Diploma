{
 "cells": [
  {
   "cell_type": "code",
   "execution_count": 1,
   "metadata": {
    "collapsed": true,
    "pycharm": {
     "name": "#%%\n"
    }
   },
   "outputs": [],
   "source": [
    "import numpy as np\n",
    "import pandas as pd"
   ]
  },
  {
   "cell_type": "code",
   "execution_count": 2,
   "outputs": [
    {
     "name": "stdout",
     "output_type": "stream",
     "text": [
      "<class 'pandas.core.frame.DataFrame'>\n",
      "RangeIndex: 373 entries, 0 to 372\n",
      "Data columns (total 15 columns):\n",
      " #   Column      Non-Null Count  Dtype  \n",
      "---  ------      --------------  -----  \n",
      " 0   Subject ID  373 non-null    object \n",
      " 1   MRI ID      373 non-null    object \n",
      " 2   Group       373 non-null    object \n",
      " 3   Visit       373 non-null    int64  \n",
      " 4   MR Delay    373 non-null    int64  \n",
      " 5   M/F         373 non-null    object \n",
      " 6   Hand        373 non-null    object \n",
      " 7   Age         373 non-null    int64  \n",
      " 8   EDUC        373 non-null    int64  \n",
      " 9   SES         354 non-null    float64\n",
      " 10  MMSE        371 non-null    float64\n",
      " 11  CDR         373 non-null    float64\n",
      " 12  eTIV        373 non-null    int64  \n",
      " 13  nWBV        373 non-null    float64\n",
      " 14  ASF         373 non-null    float64\n",
      "dtypes: float64(5), int64(5), object(5)\n",
      "memory usage: 43.8+ KB\n"
     ]
    }
   ],
   "source": [
    "mri_csv = pd.read_csv('archive/oasis_longitudinal.csv')\n",
    "\n",
    "mri_csv.info()"
   ],
   "metadata": {
    "collapsed": false,
    "pycharm": {
     "name": "#%%\n"
    }
   }
  },
  {
   "cell_type": "code",
   "execution_count": 4,
   "outputs": [
    {
     "data": {
      "text/plain": "  Subject ID         MRI ID        Group  Visit  MR Delay M/F Hand  Age  EDUC  \\\n0  OAS2_0001  OAS2_0001_MR1  Nondemented      1         0   M    R   87    14   \n1  OAS2_0001  OAS2_0001_MR2  Nondemented      2       457   M    R   88    14   \n2  OAS2_0002  OAS2_0002_MR1     Demented      1         0   M    R   75    12   \n3  OAS2_0002  OAS2_0002_MR2     Demented      2       560   M    R   76    12   \n4  OAS2_0002  OAS2_0002_MR3     Demented      3      1895   M    R   80    12   \n\n   SES  MMSE  CDR  eTIV   nWBV    ASF  \n0  2.0  27.0  0.0  1987  0.696  0.883  \n1  2.0  30.0  0.0  2004  0.681  0.876  \n2  NaN  23.0  0.5  1678  0.736  1.046  \n3  NaN  28.0  0.5  1738  0.713  1.010  \n4  NaN  22.0  0.5  1698  0.701  1.034  ",
      "text/html": "<div>\n<style scoped>\n    .dataframe tbody tr th:only-of-type {\n        vertical-align: middle;\n    }\n\n    .dataframe tbody tr th {\n        vertical-align: top;\n    }\n\n    .dataframe thead th {\n        text-align: right;\n    }\n</style>\n<table border=\"1\" class=\"dataframe\">\n  <thead>\n    <tr style=\"text-align: right;\">\n      <th></th>\n      <th>Subject ID</th>\n      <th>MRI ID</th>\n      <th>Group</th>\n      <th>Visit</th>\n      <th>MR Delay</th>\n      <th>M/F</th>\n      <th>Hand</th>\n      <th>Age</th>\n      <th>EDUC</th>\n      <th>SES</th>\n      <th>MMSE</th>\n      <th>CDR</th>\n      <th>eTIV</th>\n      <th>nWBV</th>\n      <th>ASF</th>\n    </tr>\n  </thead>\n  <tbody>\n    <tr>\n      <th>0</th>\n      <td>OAS2_0001</td>\n      <td>OAS2_0001_MR1</td>\n      <td>Nondemented</td>\n      <td>1</td>\n      <td>0</td>\n      <td>M</td>\n      <td>R</td>\n      <td>87</td>\n      <td>14</td>\n      <td>2.0</td>\n      <td>27.0</td>\n      <td>0.0</td>\n      <td>1987</td>\n      <td>0.696</td>\n      <td>0.883</td>\n    </tr>\n    <tr>\n      <th>1</th>\n      <td>OAS2_0001</td>\n      <td>OAS2_0001_MR2</td>\n      <td>Nondemented</td>\n      <td>2</td>\n      <td>457</td>\n      <td>M</td>\n      <td>R</td>\n      <td>88</td>\n      <td>14</td>\n      <td>2.0</td>\n      <td>30.0</td>\n      <td>0.0</td>\n      <td>2004</td>\n      <td>0.681</td>\n      <td>0.876</td>\n    </tr>\n    <tr>\n      <th>2</th>\n      <td>OAS2_0002</td>\n      <td>OAS2_0002_MR1</td>\n      <td>Demented</td>\n      <td>1</td>\n      <td>0</td>\n      <td>M</td>\n      <td>R</td>\n      <td>75</td>\n      <td>12</td>\n      <td>NaN</td>\n      <td>23.0</td>\n      <td>0.5</td>\n      <td>1678</td>\n      <td>0.736</td>\n      <td>1.046</td>\n    </tr>\n    <tr>\n      <th>3</th>\n      <td>OAS2_0002</td>\n      <td>OAS2_0002_MR2</td>\n      <td>Demented</td>\n      <td>2</td>\n      <td>560</td>\n      <td>M</td>\n      <td>R</td>\n      <td>76</td>\n      <td>12</td>\n      <td>NaN</td>\n      <td>28.0</td>\n      <td>0.5</td>\n      <td>1738</td>\n      <td>0.713</td>\n      <td>1.010</td>\n    </tr>\n    <tr>\n      <th>4</th>\n      <td>OAS2_0002</td>\n      <td>OAS2_0002_MR3</td>\n      <td>Demented</td>\n      <td>3</td>\n      <td>1895</td>\n      <td>M</td>\n      <td>R</td>\n      <td>80</td>\n      <td>12</td>\n      <td>NaN</td>\n      <td>22.0</td>\n      <td>0.5</td>\n      <td>1698</td>\n      <td>0.701</td>\n      <td>1.034</td>\n    </tr>\n  </tbody>\n</table>\n</div>"
     },
     "execution_count": 4,
     "metadata": {},
     "output_type": "execute_result"
    }
   ],
   "source": [
    "mri_csv.head(5)"
   ],
   "metadata": {
    "collapsed": false,
    "pycharm": {
     "name": "#%%\n"
    }
   }
  },
  {
   "cell_type": "code",
   "execution_count": 3,
   "outputs": [
    {
     "data": {
      "text/plain": "            Visit     MR Delay         Age        EDUC         SES  \\\ncount  373.000000   373.000000  373.000000  373.000000  354.000000   \nmean     1.882038   595.104558   77.013405   14.597855    2.460452   \nstd      0.922843   635.485118    7.640957    2.876339    1.134005   \nmin      1.000000     0.000000   60.000000    6.000000    1.000000   \n25%      1.000000     0.000000   71.000000   12.000000    2.000000   \n50%      2.000000   552.000000   77.000000   15.000000    2.000000   \n75%      2.000000   873.000000   82.000000   16.000000    3.000000   \nmax      5.000000  2639.000000   98.000000   23.000000    5.000000   \n\n             MMSE         CDR         eTIV        nWBV         ASF  \ncount  371.000000  373.000000   373.000000  373.000000  373.000000  \nmean    27.342318    0.290885  1488.128686    0.729568    1.195461  \nstd      3.683244    0.374557   176.139286    0.037135    0.138092  \nmin      4.000000    0.000000  1106.000000    0.644000    0.876000  \n25%     27.000000    0.000000  1357.000000    0.700000    1.099000  \n50%     29.000000    0.000000  1470.000000    0.729000    1.194000  \n75%     30.000000    0.500000  1597.000000    0.756000    1.293000  \nmax     30.000000    2.000000  2004.000000    0.837000    1.587000  ",
      "text/html": "<div>\n<style scoped>\n    .dataframe tbody tr th:only-of-type {\n        vertical-align: middle;\n    }\n\n    .dataframe tbody tr th {\n        vertical-align: top;\n    }\n\n    .dataframe thead th {\n        text-align: right;\n    }\n</style>\n<table border=\"1\" class=\"dataframe\">\n  <thead>\n    <tr style=\"text-align: right;\">\n      <th></th>\n      <th>Visit</th>\n      <th>MR Delay</th>\n      <th>Age</th>\n      <th>EDUC</th>\n      <th>SES</th>\n      <th>MMSE</th>\n      <th>CDR</th>\n      <th>eTIV</th>\n      <th>nWBV</th>\n      <th>ASF</th>\n    </tr>\n  </thead>\n  <tbody>\n    <tr>\n      <th>count</th>\n      <td>373.000000</td>\n      <td>373.000000</td>\n      <td>373.000000</td>\n      <td>373.000000</td>\n      <td>354.000000</td>\n      <td>371.000000</td>\n      <td>373.000000</td>\n      <td>373.000000</td>\n      <td>373.000000</td>\n      <td>373.000000</td>\n    </tr>\n    <tr>\n      <th>mean</th>\n      <td>1.882038</td>\n      <td>595.104558</td>\n      <td>77.013405</td>\n      <td>14.597855</td>\n      <td>2.460452</td>\n      <td>27.342318</td>\n      <td>0.290885</td>\n      <td>1488.128686</td>\n      <td>0.729568</td>\n      <td>1.195461</td>\n    </tr>\n    <tr>\n      <th>std</th>\n      <td>0.922843</td>\n      <td>635.485118</td>\n      <td>7.640957</td>\n      <td>2.876339</td>\n      <td>1.134005</td>\n      <td>3.683244</td>\n      <td>0.374557</td>\n      <td>176.139286</td>\n      <td>0.037135</td>\n      <td>0.138092</td>\n    </tr>\n    <tr>\n      <th>min</th>\n      <td>1.000000</td>\n      <td>0.000000</td>\n      <td>60.000000</td>\n      <td>6.000000</td>\n      <td>1.000000</td>\n      <td>4.000000</td>\n      <td>0.000000</td>\n      <td>1106.000000</td>\n      <td>0.644000</td>\n      <td>0.876000</td>\n    </tr>\n    <tr>\n      <th>25%</th>\n      <td>1.000000</td>\n      <td>0.000000</td>\n      <td>71.000000</td>\n      <td>12.000000</td>\n      <td>2.000000</td>\n      <td>27.000000</td>\n      <td>0.000000</td>\n      <td>1357.000000</td>\n      <td>0.700000</td>\n      <td>1.099000</td>\n    </tr>\n    <tr>\n      <th>50%</th>\n      <td>2.000000</td>\n      <td>552.000000</td>\n      <td>77.000000</td>\n      <td>15.000000</td>\n      <td>2.000000</td>\n      <td>29.000000</td>\n      <td>0.000000</td>\n      <td>1470.000000</td>\n      <td>0.729000</td>\n      <td>1.194000</td>\n    </tr>\n    <tr>\n      <th>75%</th>\n      <td>2.000000</td>\n      <td>873.000000</td>\n      <td>82.000000</td>\n      <td>16.000000</td>\n      <td>3.000000</td>\n      <td>30.000000</td>\n      <td>0.500000</td>\n      <td>1597.000000</td>\n      <td>0.756000</td>\n      <td>1.293000</td>\n    </tr>\n    <tr>\n      <th>max</th>\n      <td>5.000000</td>\n      <td>2639.000000</td>\n      <td>98.000000</td>\n      <td>23.000000</td>\n      <td>5.000000</td>\n      <td>30.000000</td>\n      <td>2.000000</td>\n      <td>2004.000000</td>\n      <td>0.837000</td>\n      <td>1.587000</td>\n    </tr>\n  </tbody>\n</table>\n</div>"
     },
     "execution_count": 3,
     "metadata": {},
     "output_type": "execute_result"
    }
   ],
   "source": [
    "mri_csv.describe()"
   ],
   "metadata": {
    "collapsed": false,
    "pycharm": {
     "name": "#%%\n"
    }
   }
  },
  {
   "cell_type": "code",
   "execution_count": 6,
   "outputs": [
    {
     "name": "stderr",
     "output_type": "stream",
     "text": [
      "/var/folders/25/hkg7hrfn7130z9vkbc1z1h580000gn/T/ipykernel_5576/3084389114.py:2: SettingWithCopyWarning: \n",
      "A value is trying to be set on a copy of a slice from a DataFrame\n",
      "\n",
      "See the caveats in the documentation: https://pandas.pydata.org/pandas-docs/stable/user_guide/indexing.html#returning-a-view-versus-a-copy\n",
      "  male['Group'].replace('Converted', 'Demented', inplace=True)\n"
     ]
    }
   ],
   "source": [
    "male = mri_csv[mri_csv['M/F'] == 'M']\n",
    "male['Group'].replace('Converted', 'Demented', inplace=True)"
   ],
   "metadata": {
    "collapsed": false,
    "pycharm": {
     "name": "#%%\n"
    }
   }
  },
  {
   "cell_type": "code",
   "execution_count": 7,
   "outputs": [
    {
     "name": "stdout",
     "output_type": "stream",
     "text": [
      "    Subject ID         MRI ID        Group  Visit  MR Delay M/F Hand  Age  \\\n",
      "5    OAS2_0004  OAS2_0004_MR1  Nondemented      1         0   F    R   88   \n",
      "6    OAS2_0004  OAS2_0004_MR2  Nondemented      2       538   F    R   90   \n",
      "13   OAS2_0008  OAS2_0008_MR1  Nondemented      1         0   F    R   93   \n",
      "14   OAS2_0008  OAS2_0008_MR2  Nondemented      2       742   F    R   95   \n",
      "17   OAS2_0010  OAS2_0010_MR1     Demented      1         0   F    R   66   \n",
      "..         ...            ...          ...    ...       ...  ..  ...  ...   \n",
      "365  OAS2_0184  OAS2_0184_MR1     Demented      1         0   F    R   72   \n",
      "366  OAS2_0184  OAS2_0184_MR2     Demented      2       553   F    R   73   \n",
      "370  OAS2_0186  OAS2_0186_MR1  Nondemented      1         0   F    R   61   \n",
      "371  OAS2_0186  OAS2_0186_MR2  Nondemented      2       763   F    R   63   \n",
      "372  OAS2_0186  OAS2_0186_MR3  Nondemented      3      1608   F    R   65   \n",
      "\n",
      "     EDUC  SES  MMSE  CDR  eTIV   nWBV    ASF  \n",
      "5      18  3.0  28.0  0.0  1215  0.710  1.444  \n",
      "6      18  3.0  27.0  0.0  1200  0.718  1.462  \n",
      "13     14  2.0  30.0  0.0  1272  0.698  1.380  \n",
      "14     14  2.0  29.0  0.0  1257  0.703  1.396  \n",
      "17     12  3.0  30.0  0.5  1447  0.769  1.213  \n",
      "..    ...  ...   ...  ...   ...    ...    ...  \n",
      "365    16  3.0  24.0  0.5  1354  0.733  1.296  \n",
      "366    16  3.0  21.0  1.0  1351  0.708  1.299  \n",
      "370    13  2.0  30.0  0.0  1319  0.801  1.331  \n",
      "371    13  2.0  30.0  0.0  1327  0.796  1.323  \n",
      "372    13  2.0  30.0  0.0  1333  0.801  1.317  \n",
      "\n",
      "[213 rows x 15 columns]\n"
     ]
    },
    {
     "name": "stderr",
     "output_type": "stream",
     "text": [
      "/var/folders/25/hkg7hrfn7130z9vkbc1z1h580000gn/T/ipykernel_5576/1847722920.py:2: SettingWithCopyWarning: \n",
      "A value is trying to be set on a copy of a slice from a DataFrame\n",
      "\n",
      "See the caveats in the documentation: https://pandas.pydata.org/pandas-docs/stable/user_guide/indexing.html#returning-a-view-versus-a-copy\n",
      "  female.replace('Converted', 'Demented', inplace=True)\n"
     ]
    }
   ],
   "source": [
    "female = mri_csv[mri_csv['M/F'] == 'F']\n",
    "female.replace('Converted', 'Demented', inplace=True)\n",
    "print(female)"
   ],
   "metadata": {
    "collapsed": false,
    "pycharm": {
     "name": "#%%\n"
    }
   }
  },
  {
   "cell_type": "code",
   "execution_count": 8,
   "outputs": [],
   "source": [
    "import matplotlib.pyplot as plt"
   ],
   "metadata": {
    "collapsed": false,
    "pycharm": {
     "name": "#%%\n"
    }
   }
  },
  {
   "cell_type": "code",
   "execution_count": 9,
   "outputs": [
    {
     "name": "stdout",
     "output_type": "stream",
     "text": [
      "Group\n",
      "Demented       99\n",
      "Nondemented    61\n",
      "Name: Subject ID, dtype: int64\n"
     ]
    }
   ],
   "source": [
    "male_diagnoses = male.groupby('Group').count()['Subject ID']\n",
    "print(male_diagnoses)"
   ],
   "metadata": {
    "collapsed": false,
    "pycharm": {
     "name": "#%%\n"
    }
   }
  },
  {
   "cell_type": "code",
   "execution_count": 10,
   "outputs": [
    {
     "name": "stdout",
     "output_type": "stream",
     "text": [
      "Group\n",
      "Demented        84\n",
      "Nondemented    129\n",
      "Name: Subject ID, dtype: int64\n"
     ]
    }
   ],
   "source": [
    "female_diagnoses = female.groupby('Group').count()['Subject ID']\n",
    "print(female_diagnoses)"
   ],
   "metadata": {
    "collapsed": false,
    "pycharm": {
     "name": "#%%\n"
    }
   }
  },
  {
   "cell_type": "code",
   "execution_count": 11,
   "outputs": [
    {
     "data": {
      "text/plain": "<Figure size 640x480 with 1 Axes>",
      "image/png": "[encoded data removed]"
     },
     "metadata": {},
     "output_type": "display_data"
    }
   ],
   "source": [
    "diagnoses = ['C деменцией', 'Без деменции']\n",
    "\n",
    "X_axis = np.arange(len(diagnoses))\n",
    "\n",
    "plt.bar(X_axis - 0.2, male_diagnoses, 0.4, label = 'Мужчины', color='blue')\n",
    "plt.bar(X_axis + 0.2, female_diagnoses, 0.4, label = 'Женщины', color='red')\n",
    "\n",
    "plt.xticks(X_axis, diagnoses)\n",
    "plt.ylabel(\"Количество пациентов\")\n",
    "plt.title(\"Количество пациентов в каждой группе\")\n",
    "plt.legend()\n",
    "plt.show()\n",
    "# plt.savefig(\"male_female_count.png\")"
   ],
   "metadata": {
    "collapsed": false,
    "pycharm": {
     "name": "#%%\n"
    }
   }
  },
  {
   "cell_type": "code",
   "execution_count": 12,
   "outputs": [
    {
     "name": "stdout",
     "output_type": "stream",
     "text": [
      "2      0.736\n",
      "3      0.713\n",
      "4      0.701\n",
      "10     0.748\n",
      "11     0.727\n",
      "       ...  \n",
      "365    0.733\n",
      "366    0.708\n",
      "367    0.711\n",
      "368    0.694\n",
      "369    0.675\n",
      "Name: nWBV, Length: 183, dtype: float64\n",
      "0      0.696\n",
      "1      0.681\n",
      "5      0.710\n",
      "6      0.718\n",
      "7      0.712\n",
      "       ...  \n",
      "363    0.740\n",
      "364    0.723\n",
      "370    0.801\n",
      "371    0.796\n",
      "372    0.801\n",
      "Name: nWBV, Length: 190, dtype: float64\n"
     ]
    }
   ],
   "source": [
    "demented_nwbv = mri_csv.loc[mri_csv['Group'] != 'Nondemented', 'nWBV']\n",
    "non_demented_nwbv = mri_csv.loc[mri_csv['Group'] == 'Nondemented', 'nWBV']\n",
    "\n",
    "print(demented_nwbv)\n",
    "print(non_demented_nwbv)"
   ],
   "metadata": {
    "collapsed": false,
    "pycharm": {
     "name": "#%%\n"
    }
   }
  },
  {
   "cell_type": "code",
   "execution_count": 139,
   "outputs": [
    {
     "data": {
      "text/plain": "<Figure size 900x400 with 1 Axes>",
      "image/png": "[encoded data removed]"
     },
     "metadata": {},
     "output_type": "display_data"
    }
   ],
   "source": [
    "data = [demented_nwbv, non_demented_nwbv]\n",
    "fig, ax = plt.subplots(nrows=1, ncols=1, figsize=(9, 4))\n",
    "\n",
    "# Display the plot\n",
    "plt.ylabel(\"nWBV\")\n",
    "\n",
    "bplot = ax.boxplot(data,\n",
    "                     vert=True,\n",
    "                     patch_artist=True,\n",
    "                     labels=['С деменцией', 'Без деменции'])\n",
    "\n",
    "colors = ['pink', 'lightblue']\n",
    "for patch, color in zip(bplot['boxes'], colors):\n",
    "    patch.set_facecolor(color)\n",
    "\n",
    "ax.yaxis.grid(True)\n",
    "\n",
    "# plt.savefig(\"nWBV.png\")"
   ],
   "metadata": {
    "collapsed": false,
    "pycharm": {
     "name": "#%%\n"
    }
   }
  },
  {
   "cell_type": "code",
   "execution_count": 47,
   "outputs": [
    {
     "name": "stdout",
     "output_type": "stream",
     "text": [
      "[2      0.736\n",
      "3      0.713\n",
      "4      0.701\n",
      "10     0.748\n",
      "11     0.727\n",
      "       ...  \n",
      "365    0.733\n",
      "366    0.708\n",
      "367    0.711\n",
      "368    0.694\n",
      "369    0.675\n",
      "Name: nWBV, Length: 183, dtype: float64, 0      0.696\n",
      "1      0.681\n",
      "5      0.710\n",
      "6      0.718\n",
      "7      0.712\n",
      "       ...  \n",
      "363    0.740\n",
      "364    0.723\n",
      "370    0.801\n",
      "371    0.796\n",
      "372    0.801\n",
      "Name: nWBV, Length: 190, dtype: float64]\n"
     ]
    }
   ],
   "source": [
    "print(data)"
   ],
   "metadata": {
    "collapsed": false,
    "pycharm": {
     "name": "#%%\n"
    }
   }
  },
  {
   "cell_type": "code",
   "execution_count": 110,
   "outputs": [],
   "source": [
    "demented_mmse = mri_csv.loc[mri_csv['Group'] != 'Nondemented', 'MMSE'].values\n",
    "non_demented_mmse = mri_csv.loc[mri_csv['Group'] == 'Nondemented', 'MMSE'].values\n",
    "\n",
    "demented_mmse = demented_mmse[~np.isnan(demented_mmse)]"
   ],
   "metadata": {
    "collapsed": false,
    "pycharm": {
     "name": "#%%\n"
    }
   }
  },
  {
   "cell_type": "code",
   "execution_count": 111,
   "outputs": [
    {
     "data": {
      "text/plain": "13.4"
     },
     "execution_count": 111,
     "metadata": {},
     "output_type": "execute_result"
    }
   ],
   "source": [
    "np.percentile(demented_mmse, 1)"
   ],
   "metadata": {
    "collapsed": false,
    "pycharm": {
     "name": "#%%\n"
    }
   }
  },
  {
   "cell_type": "code",
   "execution_count": 148,
   "outputs": [
    {
     "data": {
      "text/plain": "[array([23., 28., 22., 28., 27., 27., 27., 24., 30., 29., 21., 16., 25.,\n        23., 30., 29., 27., 29., 28., 26., 26., 25., 21., 21., 27., 27.,\n        22., 21., 30., 30., 28., 21., 24., 27., 29., 26., 26., 26., 25.,\n        25., 27., 23., 27., 28., 28., 26., 26., 21., 15., 22., 20., 22.,\n        19., 21., 19.,  7.,  4., 20., 17., 29., 24., 30., 26., 29., 29.,\n        28., 30., 27., 23., 26., 18., 30., 30., 27., 28., 25., 22., 23.,\n        16., 16., 25., 30., 28., 26., 26., 26., 21., 21., 20., 29., 27.,\n        28., 27., 30., 28., 27., 23., 29., 29., 30., 30., 30., 30., 25.,\n        17., 22., 21., 25., 27., 17., 17., 27., 20., 23., 28., 27., 27.,\n        27., 28., 30., 26., 25., 15., 29., 27., 29., 29., 29., 29., 30.,\n        30., 25., 29., 28., 29., 28., 28., 30., 29., 29., 26., 27., 25.,\n        30., 30., 30., 29., 20., 20., 30., 27., 19., 18., 29., 28., 27.,\n        29., 23., 22., 23., 25., 23., 17., 30., 29., 26., 28., 28., 30.,\n        30., 30., 26., 26., 26., 23., 20., 24., 21., 28., 28., 26.]),\n array([27., 30., 28., 27., 28., 29., 30., 30., 29., 29., 29., 29., 30.,\n        30., 29., 29., 27., 30., 27., 30., 29., 29., 30., 30., 30., 29.,\n        30., 30., 30., 29., 30., 30., 30., 30., 27., 30., 30., 30., 29.,\n        29., 29., 30., 29., 29., 27., 30., 30., 30., 29., 29., 30., 29.,\n        30., 29., 28., 29., 27., 28., 30., 30., 29., 30., 30., 30., 30.,\n        29., 30., 29., 30., 29., 29., 28., 30., 29., 29., 30., 28., 29.,\n        29., 30., 30., 29., 28., 28., 29., 29., 30., 29., 30., 28., 29.,\n        28., 28., 30., 29., 27., 28., 28., 29., 29., 30., 28., 29., 30.,\n        30., 30., 29., 29., 29., 28., 30., 30., 29., 30., 30., 30., 30.,\n        30., 29., 30., 28., 29., 30., 30., 30., 29., 28., 29., 30., 30.,\n        30., 30., 30., 29., 29., 29., 28., 29., 30., 30., 29., 30., 27.,\n        29., 28., 30., 29., 29., 28., 30., 30., 29., 29., 29., 28., 30.,\n        29., 30., 29., 29., 29., 29., 28., 30., 30., 29., 29., 29., 30.,\n        29., 30., 30., 30., 30., 30., 30., 30., 30., 26., 28., 29., 28.,\n        30., 30., 30., 30., 30., 30., 30., 30.])]"
     },
     "execution_count": 148,
     "metadata": {},
     "output_type": "execute_result"
    }
   ],
   "source": [
    "data = [demented_mmse, non_demented_mmse]\n",
    "data"
   ],
   "metadata": {
    "collapsed": false,
    "pycharm": {
     "name": "#%%\n"
    }
   }
  },
  {
   "cell_type": "code",
   "execution_count": 149,
   "outputs": [
    {
     "data": {
      "text/plain": "<Figure size 900x400 with 1 Axes>",
      "image/png": "[encoded data removed]"
     },
     "metadata": {},
     "output_type": "display_data"
    }
   ],
   "source": [
    "fig, ax = plt.subplots(nrows=1, ncols=1, figsize=(9, 4))\n",
    "\n",
    "# Display the plot\n",
    "plt.ylabel(\"MMSE\")\n",
    "plt.ylim(14, 32)\n",
    "\n",
    "bplot = ax.boxplot(data,\n",
    "                     vert=True,  # vertical box alignment\n",
    "                     patch_artist=True,  # fill with color\n",
    "                     labels=['С деменцией', 'Без деменции'])  # will be used to label x-ticks\n",
    "\n",
    "colors = ['pink', 'lightblue']\n",
    "for patch, color in zip(bplot['boxes'], colors):\n",
    "    patch.set_facecolor(color)\n",
    "\n",
    "ax.yaxis.grid(True)\n",
    "\n",
    "plt.savefig('MMSE.png')"
   ],
   "metadata": {
    "collapsed": false,
    "pycharm": {
     "name": "#%%\n"
    }
   }
  },
  {
   "cell_type": "code",
   "execution_count": 143,
   "outputs": [
    {
     "name": "stdout",
     "output_type": "stream",
     "text": [
      "2      75\n",
      "3      76\n",
      "4      80\n",
      "10     71\n",
      "11     73\n",
      "       ..\n",
      "365    72\n",
      "366    73\n",
      "367    80\n",
      "368    82\n",
      "369    86\n",
      "Name: Age, Length: 183, dtype: int64\n",
      "0      87\n",
      "1      88\n",
      "5      88\n",
      "6      90\n",
      "7      80\n",
      "       ..\n",
      "363    68\n",
      "364    72\n",
      "370    61\n",
      "371    63\n",
      "372    65\n",
      "Name: Age, Length: 190, dtype: int64\n"
     ]
    }
   ],
   "source": [
    "demented_age = mri_csv.loc[mri_csv['Group'] != 'Nondemented', 'Age']\n",
    "non_demented_age = mri_csv.loc[mri_csv['Group'] == 'Nondemented', 'Age']\n",
    "\n",
    "print(demented_age)\n",
    "print(non_demented_age)"
   ],
   "metadata": {
    "collapsed": false,
    "pycharm": {
     "name": "#%%\n"
    }
   }
  },
  {
   "cell_type": "code",
   "execution_count": 145,
   "outputs": [
    {
     "data": {
      "text/plain": "<Figure size 900x400 with 1 Axes>",
      "image/png": "[encoded data removed]"
     },
     "metadata": {},
     "output_type": "display_data"
    }
   ],
   "source": [
    "data = [demented_age, non_demented_age]\n",
    "fig, ax = plt.subplots(nrows=1, ncols=1, figsize=(9, 4))\n",
    "\n",
    "# Display the plot\n",
    "plt.ylabel(\"Age\")\n",
    "\n",
    "bplot = ax.boxplot(data,\n",
    "                     vert=True,  # vertical box alignment\n",
    "                     patch_artist=True,  # fill with color\n",
    "                     labels=['С деменцией', 'Без деменции'])  # will be used to label x-ticks\n",
    "\n",
    "colors = ['pink', 'lightblue']\n",
    "for patch, color in zip(bplot['boxes'], colors):\n",
    "    patch.set_facecolor(color)\n",
    "\n",
    "ax.yaxis.grid(True)\n",
    "\n",
    "# plt.savefig(\"age_distr.png\")"
   ],
   "metadata": {
    "collapsed": false,
    "pycharm": {
     "name": "#%%\n"
    }
   }
  },
  {
   "cell_type": "code",
   "execution_count": 134,
   "outputs": [
    {
     "name": "stdout",
     "output_type": "stream",
     "text": [
      "0      87\n",
      "1      88\n",
      "2      75\n",
      "3      76\n",
      "4      80\n",
      "       ..\n",
      "368    82\n",
      "369    86\n",
      "370    61\n",
      "371    63\n",
      "372    65\n",
      "Name: Age, Length: 373, dtype: int64\n"
     ]
    }
   ],
   "source": [
    "ages = mri_csv['Age']\n",
    "print(ages)"
   ],
   "metadata": {
    "collapsed": false,
    "pycharm": {
     "name": "#%%\n"
    }
   }
  },
  {
   "cell_type": "code",
   "execution_count": 146,
   "outputs": [
    {
     "data": {
      "text/plain": "<Figure size 640x480 with 1 Axes>",
      "image/png": "[encoded data removed]"
     },
     "metadata": {},
     "output_type": "display_data"
    }
   ],
   "source": [
    "fig, axs = plt.subplots(1, 1, sharey=True, tight_layout=True)\n",
    "\n",
    "plt.ylabel('Частота')\n",
    "\n",
    "# We can set the number of bins with the *bins* keyword argument.\n",
    "axs.hist(ages)\n",
    "# plt.savefig('age_hist.png')"
   ],
   "metadata": {
    "collapsed": false,
    "pycharm": {
     "name": "#%%\n"
    }
   }
  },
  {
   "cell_type": "code",
   "execution_count": null,
   "outputs": [],
   "source": [],
   "metadata": {
    "collapsed": false,
    "pycharm": {
     "name": "#%%\n"
    }
   }
  }
 ],
 "metadata": {
  "kernelspec": {
   "display_name": "Python 3",
   "language": "python",
   "name": "python3"
  },
  "language_info": {
   "codemirror_mode": {
    "name": "ipython",
    "version": 2
   },
   "file_extension": ".py",
   "mimetype": "text/x-python",
   "name": "python",
   "nbconvert_exporter": "python",
   "pygments_lexer": "ipython2",
   "version": "2.7.6"
  }
 },
 "nbformat": 4,
 "nbformat_minor": 0
}