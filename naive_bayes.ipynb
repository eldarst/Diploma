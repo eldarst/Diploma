{
 "cells": [
  {
   "cell_type": "code",
   "execution_count": 3,
   "outputs": [],
   "source": [
    "import sklearn\n",
    "import numpy as np\n",
    "import pandas as pd"
   ],
   "metadata": {
    "collapsed": false,
    "pycharm": {
     "name": "#%%\n"
    }
   }
  },
  {
   "cell_type": "code",
   "execution_count": 1,
   "outputs": [
    {
     "ename": "NameError",
     "evalue": "name 'pd' is not defined",
     "output_type": "error",
     "traceback": [
      "\u001B[0;31m---------------------------------------------------------------------------\u001B[0m",
      "\u001B[0;31mNameError\u001B[0m                                 Traceback (most recent call last)",
      "Cell \u001B[0;32mIn[1], line 1\u001B[0m\n\u001B[0;32m----> 1\u001B[0m mri_csv \u001B[38;5;241m=\u001B[39m \u001B[43mpd\u001B[49m\u001B[38;5;241m.\u001B[39mread_csv(\u001B[38;5;124m'\u001B[39m\u001B[38;5;124marchive/oasis_longitudinal.csv\u001B[39m\u001B[38;5;124m'\u001B[39m)\n\u001B[1;32m      2\u001B[0m mri_csv[\u001B[38;5;124m'\u001B[39m\u001B[38;5;124mGroup\u001B[39m\u001B[38;5;124m'\u001B[39m]\u001B[38;5;241m.\u001B[39mreplace(\u001B[38;5;124m'\u001B[39m\u001B[38;5;124mConverted\u001B[39m\u001B[38;5;124m'\u001B[39m, \u001B[38;5;124m'\u001B[39m\u001B[38;5;124mDemented\u001B[39m\u001B[38;5;124m'\u001B[39m, inplace\u001B[38;5;241m=\u001B[39m\u001B[38;5;28;01mTrue\u001B[39;00m)\n",
      "\u001B[0;31mNameError\u001B[0m: name 'pd' is not defined"
     ]
    }
   ],
   "source": [
    "mri_csv = pd.read_csv('archive/oasis_longitudinal.csv')\n",
    "mri_csv['Group'].replace('Converted', 'Demented', inplace=True)"
   ],
   "metadata": {
    "collapsed": false,
    "pycharm": {
     "name": "#%%\n"
    }
   }
  },
  {
   "cell_type": "code",
   "execution_count": 45,
   "outputs": [
    {
     "data": {
      "text/plain": "            Visit     MR Delay         Age        EDUC         SES  \\\ncount  373.000000   373.000000  373.000000  373.000000  354.000000   \nmean     1.882038   595.104558   77.013405   14.597855    2.460452   \nstd      0.922843   635.485118    7.640957    2.876339    1.134005   \nmin      1.000000     0.000000   60.000000    6.000000    1.000000   \n25%      1.000000     0.000000   71.000000   12.000000    2.000000   \n50%      2.000000   552.000000   77.000000   15.000000    2.000000   \n75%      2.000000   873.000000   82.000000   16.000000    3.000000   \nmax      5.000000  2639.000000   98.000000   23.000000    5.000000   \n\n             MMSE         CDR         eTIV        nWBV         ASF  \ncount  371.000000  373.000000   373.000000  373.000000  373.000000  \nmean    27.342318    0.290885  1488.128686    0.729568    1.195461  \nstd      3.683244    0.374557   176.139286    0.037135    0.138092  \nmin      4.000000    0.000000  1106.000000    0.644000    0.876000  \n25%     27.000000    0.000000  1357.000000    0.700000    1.099000  \n50%     29.000000    0.000000  1470.000000    0.729000    1.194000  \n75%     30.000000    0.500000  1597.000000    0.756000    1.293000  \nmax     30.000000    2.000000  2004.000000    0.837000    1.587000  ",
      "text/html": "<div>\n<style scoped>\n    .dataframe tbody tr th:only-of-type {\n        vertical-align: middle;\n    }\n\n    .dataframe tbody tr th {\n        vertical-align: top;\n    }\n\n    .dataframe thead th {\n        text-align: right;\n    }\n</style>\n<table border=\"1\" class=\"dataframe\">\n  <thead>\n    <tr style=\"text-align: right;\">\n      <th></th>\n      <th>Visit</th>\n      <th>MR Delay</th>\n      <th>Age</th>\n      <th>EDUC</th>\n      <th>SES</th>\n      <th>MMSE</th>\n      <th>CDR</th>\n      <th>eTIV</th>\n      <th>nWBV</th>\n      <th>ASF</th>\n    </tr>\n  </thead>\n  <tbody>\n    <tr>\n      <th>count</th>\n      <td>373.000000</td>\n      <td>373.000000</td>\n      <td>373.000000</td>\n      <td>373.000000</td>\n      <td>354.000000</td>\n      <td>371.000000</td>\n      <td>373.000000</td>\n      <td>373.000000</td>\n      <td>373.000000</td>\n      <td>373.000000</td>\n    </tr>\n    <tr>\n      <th>mean</th>\n      <td>1.882038</td>\n      <td>595.104558</td>\n      <td>77.013405</td>\n      <td>14.597855</td>\n      <td>2.460452</td>\n      <td>27.342318</td>\n      <td>0.290885</td>\n      <td>1488.128686</td>\n      <td>0.729568</td>\n      <td>1.195461</td>\n    </tr>\n    <tr>\n      <th>std</th>\n      <td>0.922843</td>\n      <td>635.485118</td>\n      <td>7.640957</td>\n      <td>2.876339</td>\n      <td>1.134005</td>\n      <td>3.683244</td>\n      <td>0.374557</td>\n      <td>176.139286</td>\n      <td>0.037135</td>\n      <td>0.138092</td>\n    </tr>\n    <tr>\n      <th>min</th>\n      <td>1.000000</td>\n      <td>0.000000</td>\n      <td>60.000000</td>\n      <td>6.000000</td>\n      <td>1.000000</td>\n      <td>4.000000</td>\n      <td>0.000000</td>\n      <td>1106.000000</td>\n      <td>0.644000</td>\n      <td>0.876000</td>\n    </tr>\n    <tr>\n      <th>25%</th>\n      <td>1.000000</td>\n      <td>0.000000</td>\n      <td>71.000000</td>\n      <td>12.000000</td>\n      <td>2.000000</td>\n      <td>27.000000</td>\n      <td>0.000000</td>\n      <td>1357.000000</td>\n      <td>0.700000</td>\n      <td>1.099000</td>\n    </tr>\n    <tr>\n      <th>50%</th>\n      <td>2.000000</td>\n      <td>552.000000</td>\n      <td>77.000000</td>\n      <td>15.000000</td>\n      <td>2.000000</td>\n      <td>29.000000</td>\n      <td>0.000000</td>\n      <td>1470.000000</td>\n      <td>0.729000</td>\n      <td>1.194000</td>\n    </tr>\n    <tr>\n      <th>75%</th>\n      <td>2.000000</td>\n      <td>873.000000</td>\n      <td>82.000000</td>\n      <td>16.000000</td>\n      <td>3.000000</td>\n      <td>30.000000</td>\n      <td>0.500000</td>\n      <td>1597.000000</td>\n      <td>0.756000</td>\n      <td>1.293000</td>\n    </tr>\n    <tr>\n      <th>max</th>\n      <td>5.000000</td>\n      <td>2639.000000</td>\n      <td>98.000000</td>\n      <td>23.000000</td>\n      <td>5.000000</td>\n      <td>30.000000</td>\n      <td>2.000000</td>\n      <td>2004.000000</td>\n      <td>0.837000</td>\n      <td>1.587000</td>\n    </tr>\n  </tbody>\n</table>\n</div>"
     },
     "execution_count": 45,
     "metadata": {},
     "output_type": "execute_result"
    }
   ],
   "source": [
    "mri_csv.describe()"
   ],
   "metadata": {
    "collapsed": false,
    "pycharm": {
     "name": "#%%\n"
    }
   }
  },
  {
   "cell_type": "code",
   "execution_count": 46,
   "outputs": [
    {
     "name": "stdout",
     "output_type": "stream",
     "text": [
      "<class 'pandas.core.frame.DataFrame'>\n",
      "Int64Index: 354 entries, 0 to 372\n",
      "Data columns (total 15 columns):\n",
      " #   Column      Non-Null Count  Dtype  \n",
      "---  ------      --------------  -----  \n",
      " 0   Subject ID  354 non-null    object \n",
      " 1   MRI ID      354 non-null    object \n",
      " 2   Group       354 non-null    object \n",
      " 3   Visit       354 non-null    int64  \n",
      " 4   MR Delay    354 non-null    int64  \n",
      " 5   M/F         354 non-null    object \n",
      " 6   Hand        354 non-null    object \n",
      " 7   Age         354 non-null    int64  \n",
      " 8   EDUC        354 non-null    int64  \n",
      " 9   SES         354 non-null    float64\n",
      " 10  MMSE        354 non-null    float64\n",
      " 11  CDR         354 non-null    float64\n",
      " 12  eTIV        354 non-null    int64  \n",
      " 13  nWBV        354 non-null    float64\n",
      " 14  ASF         354 non-null    float64\n",
      "dtypes: float64(5), int64(5), object(5)\n",
      "memory usage: 44.2+ KB\n"
     ]
    }
   ],
   "source": [
    "mri_csv = mri_csv.dropna()\n",
    "mri_csv.info()"
   ],
   "metadata": {
    "collapsed": false,
    "pycharm": {
     "name": "#%%\n"
    }
   }
  },
  {
   "cell_type": "code",
   "execution_count": 47,
   "outputs": [],
   "source": [
    "from sklearn import preprocessing"
   ],
   "metadata": {
    "collapsed": false,
    "pycharm": {
     "name": "#%%\n"
    }
   }
  },
  {
   "cell_type": "code",
   "execution_count": 136,
   "outputs": [
    {
     "data": {
      "text/plain": "array([1, 1, 1, 1, 1, 1, 1, 1, 1, 0, 0, 0, 0, 1, 1, 1, 1, 1, 1, 0, 0, 0,\n       0, 1, 1, 1, 1, 0, 0, 0, 0, 0, 0, 0, 0, 1, 1, 0, 0, 0, 0, 1, 1, 1,\n       1, 0, 0, 1, 1, 1, 1, 0, 0, 0, 0, 0, 1, 1, 1, 1, 1, 1, 1, 1, 1, 1,\n       0, 0, 0, 0, 0, 0, 0, 0, 0, 0, 0, 0, 1, 1, 0, 0, 0, 0, 0, 1, 1, 0,\n       0, 1, 1, 0, 0, 0, 0, 0, 1, 1, 1, 0, 0, 1, 1, 1, 1, 1, 1, 1, 0, 0,\n       1, 1, 1, 1, 1, 1, 1, 0, 0, 0, 0, 0, 1, 1, 1, 1, 1, 1, 0, 0, 0, 0,\n       0, 1, 1, 1, 1, 1, 1, 1, 1, 1, 1, 1, 1, 1, 0, 0, 1, 1, 1, 1, 1, 0,\n       0, 1, 1, 1, 1, 1, 1, 1, 1, 0, 0, 0, 0, 0, 0, 0, 0, 1, 1, 1, 1, 0,\n       0, 0, 0, 0, 0, 1, 1, 1, 1, 1, 0, 0, 1, 1, 1, 1, 1, 1, 1, 1, 1, 0,\n       0, 1, 1, 1, 1, 1, 1, 0, 0, 0, 0, 0, 0, 0, 0, 1, 1, 0, 0, 0, 0, 1,\n       1, 0, 0, 0, 0, 0, 0, 0, 0, 1, 1, 1, 1, 0, 0, 1, 1, 1, 0, 0, 1, 1,\n       1, 1, 0, 0, 1, 1, 1, 0, 0, 0, 0, 0, 1, 1, 1, 1, 1, 0, 0, 0, 0, 0,\n       0, 1, 1, 0, 0, 1, 1, 0, 0, 0, 0, 0, 1, 1, 1, 1, 1, 1, 1, 0, 0, 0,\n       0, 0, 0, 1, 1, 1, 1, 1, 1, 0, 0, 1, 1, 1, 1, 1, 1, 1, 0, 0, 1, 1,\n       0, 0, 1, 1, 1, 0, 0, 0, 0, 0, 0, 1, 1, 1, 1, 1, 0, 0, 1, 1, 1, 0,\n       0, 0, 0, 0, 0, 1, 1, 1, 1, 1, 0, 0, 1, 1, 1, 1, 0, 0, 0, 0, 0, 1,\n       1, 1])"
     },
     "execution_count": 136,
     "metadata": {},
     "output_type": "execute_result"
    }
   ],
   "source": [
    "y = mri_csv['Group']\n",
    "le_y = preprocessing.LabelEncoder()\n",
    "le_y.fit(y)\n",
    "y = le_y.transform(y)\n",
    "y"
   ],
   "metadata": {
    "collapsed": false,
    "pycharm": {
     "name": "#%%\n"
    }
   }
  },
  {
   "cell_type": "code",
   "execution_count": 137,
   "outputs": [
    {
     "data": {
      "text/plain": "     M/F  Age  EDUC  SES  MMSE  CDR  eTIV   nWBV    ASF\n0      1   87    14  2.0  27.0  0.0  1987  0.696  0.883\n1      1   88    14  2.0  30.0  0.0  2004  0.681  0.876\n5      0   88    18  3.0  28.0  0.0  1215  0.710  1.444\n6      0   90    18  3.0  27.0  0.0  1200  0.718  1.462\n7      1   80    12  4.0  28.0  0.0  1689  0.712  1.039\n..   ...  ...   ...  ...   ...  ...   ...    ...    ...\n368    1   82    16  1.0  28.0  0.5  1693  0.694  1.037\n369    1   86    16  1.0  26.0  0.5  1688  0.675  1.040\n370    0   61    13  2.0  30.0  0.0  1319  0.801  1.331\n371    0   63    13  2.0  30.0  0.0  1327  0.796  1.323\n372    0   65    13  2.0  30.0  0.0  1333  0.801  1.317\n\n[354 rows x 9 columns]",
      "text/html": "<div>\n<style scoped>\n    .dataframe tbody tr th:only-of-type {\n        vertical-align: middle;\n    }\n\n    .dataframe tbody tr th {\n        vertical-align: top;\n    }\n\n    .dataframe thead th {\n        text-align: right;\n    }\n</style>\n<table border=\"1\" class=\"dataframe\">\n  <thead>\n    <tr style=\"text-align: right;\">\n      <th></th>\n      <th>M/F</th>\n      <th>Age</th>\n      <th>EDUC</th>\n      <th>SES</th>\n      <th>MMSE</th>\n      <th>CDR</th>\n      <th>eTIV</th>\n      <th>nWBV</th>\n      <th>ASF</th>\n    </tr>\n  </thead>\n  <tbody>\n    <tr>\n      <th>0</th>\n      <td>1</td>\n      <td>87</td>\n      <td>14</td>\n      <td>2.0</td>\n      <td>27.0</td>\n      <td>0.0</td>\n      <td>1987</td>\n      <td>0.696</td>\n      <td>0.883</td>\n    </tr>\n    <tr>\n      <th>1</th>\n      <td>1</td>\n      <td>88</td>\n      <td>14</td>\n      <td>2.0</td>\n      <td>30.0</td>\n      <td>0.0</td>\n      <td>2004</td>\n      <td>0.681</td>\n      <td>0.876</td>\n    </tr>\n    <tr>\n      <th>5</th>\n      <td>0</td>\n      <td>88</td>\n      <td>18</td>\n      <td>3.0</td>\n      <td>28.0</td>\n      <td>0.0</td>\n      <td>1215</td>\n      <td>0.710</td>\n      <td>1.444</td>\n    </tr>\n    <tr>\n      <th>6</th>\n      <td>0</td>\n      <td>90</td>\n      <td>18</td>\n      <td>3.0</td>\n      <td>27.0</td>\n      <td>0.0</td>\n      <td>1200</td>\n      <td>0.718</td>\n      <td>1.462</td>\n    </tr>\n    <tr>\n      <th>7</th>\n      <td>1</td>\n      <td>80</td>\n      <td>12</td>\n      <td>4.0</td>\n      <td>28.0</td>\n      <td>0.0</td>\n      <td>1689</td>\n      <td>0.712</td>\n      <td>1.039</td>\n    </tr>\n    <tr>\n      <th>...</th>\n      <td>...</td>\n      <td>...</td>\n      <td>...</td>\n      <td>...</td>\n      <td>...</td>\n      <td>...</td>\n      <td>...</td>\n      <td>...</td>\n      <td>...</td>\n    </tr>\n    <tr>\n      <th>368</th>\n      <td>1</td>\n      <td>82</td>\n      <td>16</td>\n      <td>1.0</td>\n      <td>28.0</td>\n      <td>0.5</td>\n      <td>1693</td>\n      <td>0.694</td>\n      <td>1.037</td>\n    </tr>\n    <tr>\n      <th>369</th>\n      <td>1</td>\n      <td>86</td>\n      <td>16</td>\n      <td>1.0</td>\n      <td>26.0</td>\n      <td>0.5</td>\n      <td>1688</td>\n      <td>0.675</td>\n      <td>1.040</td>\n    </tr>\n    <tr>\n      <th>370</th>\n      <td>0</td>\n      <td>61</td>\n      <td>13</td>\n      <td>2.0</td>\n      <td>30.0</td>\n      <td>0.0</td>\n      <td>1319</td>\n      <td>0.801</td>\n      <td>1.331</td>\n    </tr>\n    <tr>\n      <th>371</th>\n      <td>0</td>\n      <td>63</td>\n      <td>13</td>\n      <td>2.0</td>\n      <td>30.0</td>\n      <td>0.0</td>\n      <td>1327</td>\n      <td>0.796</td>\n      <td>1.323</td>\n    </tr>\n    <tr>\n      <th>372</th>\n      <td>0</td>\n      <td>65</td>\n      <td>13</td>\n      <td>2.0</td>\n      <td>30.0</td>\n      <td>0.0</td>\n      <td>1333</td>\n      <td>0.801</td>\n      <td>1.317</td>\n    </tr>\n  </tbody>\n</table>\n<p>354 rows × 9 columns</p>\n</div>"
     },
     "execution_count": 137,
     "metadata": {},
     "output_type": "execute_result"
    }
   ],
   "source": [
    "X = mri_csv.iloc[:, 5:]\n",
    "le_MF = preprocessing.LabelEncoder()\n",
    "le_MF.fit(X['M/F'])\n",
    "X['M/F'] = le_MF.transform(X['M/F'])\n",
    "X.drop('Hand', inplace=True, axis=1)\n",
    "X"
   ],
   "metadata": {
    "collapsed": false,
    "pycharm": {
     "name": "#%%\n"
    }
   }
  },
  {
   "cell_type": "code",
   "execution_count": 138,
   "outputs": [],
   "source": [
    "def accuracy(y_true, y_pred):\n",
    "    return np.sum(y_true == y_pred) / len(y_true)"
   ],
   "metadata": {
    "collapsed": false,
    "pycharm": {
     "name": "#%%\n"
    }
   }
  },
  {
   "cell_type": "code",
   "execution_count": 84,
   "outputs": [],
   "source": [
    "GaussianNB?"
   ],
   "metadata": {
    "collapsed": false,
    "pycharm": {
     "name": "#%%\n"
    }
   }
  },
  {
   "cell_type": "code",
   "execution_count": 214,
   "outputs": [
    {
     "name": "stdout",
     "output_type": "stream",
     "text": [
      "                      0\n",
      "accuracy       0.971963\n",
      "recall         0.981132\n",
      "precision      0.962963\n",
      "roc_auc_score  0.972048\n",
      "f1             0.971963\n"
     ]
    }
   ],
   "source": [
    "from sklearn.model_selection import train_test_split\n",
    "from sklearn.naive_bayes import GaussianNB\n",
    "from sklearn.metrics import accuracy_score, confusion_matrix, recall_score, roc_auc_score, precision_score, f1_score\n",
    "\n",
    "\n",
    "X_train, X_test, y_train, y_test = train_test_split(X, y, test_size=0.3, shuffle=True, random_state=2)\n",
    "gnb = GaussianNB()\n",
    "y_pred = gnb.fit(X_train, y_train).predict(X_test)\n",
    "\n",
    "list(le_y.inverse_transform(y_pred))\n",
    "accuracy(y_pred, y_test)\n",
    "print(pd.DataFrame(data=[accuracy_score(y_test, y_pred), recall_score(y_test, y_pred),\n",
    "                   precision_score(y_test, y_pred), roc_auc_score(y_test, y_pred), f1_score(y_test, y_pred)],\n",
    "             index=[\"accuracy\", \"recall\", \"precision\", \"roc_auc_score\", \"f1\"]))"
   ],
   "metadata": {
    "collapsed": false,
    "pycharm": {
     "name": "#%%\n"
    }
   }
  },
  {
   "cell_type": "code",
   "execution_count": 232,
   "outputs": [
    {
     "name": "stdout",
     "output_type": "stream",
     "text": [
      "[[8.700e+01 1.400e+01 2.000e+00 2.700e+01 1.987e+03]\n",
      " [8.800e+01 1.400e+01 2.000e+00 3.000e+01 2.004e+03]\n",
      " [8.800e+01 1.800e+01 3.000e+00 2.800e+01 1.215e+03]\n",
      " [9.000e+01 1.800e+01 3.000e+00 2.700e+01 1.200e+03]\n",
      " [8.000e+01 1.200e+01 4.000e+00 2.800e+01 1.689e+03]\n",
      " [8.300e+01 1.200e+01 4.000e+00 2.900e+01 1.701e+03]\n",
      " [8.500e+01 1.200e+01 4.000e+00 3.000e+01 1.699e+03]]\n"
     ]
    }
   ],
   "source": [
    "from sklearn.feature_selection import VarianceThreshold\n",
    "\n",
    "thresholder = VarianceThreshold(threshold=0.4)\n",
    "\n",
    "X_high_variance = thresholder.fit_transform(X)\n",
    "print(X_high_variance[0:7])"
   ],
   "metadata": {
    "collapsed": false,
    "pycharm": {
     "name": "#%%\n"
    }
   }
  },
  {
   "cell_type": "code",
   "execution_count": 233,
   "outputs": [
    {
     "name": "stdout",
     "output_type": "stream",
     "text": [
      "                      0\n",
      "accuracy       0.822430\n",
      "recall         0.941176\n",
      "precision      0.750000\n",
      "roc_auc_score  0.827731\n",
      "f1             0.834783\n"
     ]
    }
   ],
   "source": [
    "X_train, X_test, y_train, y_test = train_test_split(X_high_variance, y, test_size=0.3, shuffle=True, random_state=4)\n",
    "gnb = GaussianNB()\n",
    "y_pred = gnb.fit(X_train, y_train).predict(X_test)\n",
    "\n",
    "list(le_y.inverse_transform(y_pred))\n",
    "print(pd.DataFrame(data=[accuracy_score(y_test, y_pred), recall_score(y_test, y_pred),\n",
    "                   precision_score(y_test, y_pred), roc_auc_score(y_test, y_pred), f1_score(y_test, y_pred)],\n",
    "             index=[\"accuracy\", \"recall\", \"precision\", \"roc_auc_score\", \"f1\"]))"
   ],
   "metadata": {
    "collapsed": false,
    "pycharm": {
     "name": "#%%\n"
    }
   }
  }
 ],
 "metadata": {
  "kernelspec": {
   "display_name": "Python 3",
   "language": "python",
   "name": "python3"
  },
  "language_info": {
   "codemirror_mode": {
    "name": "ipython",
    "version": 2
   },
   "file_extension": ".py",
   "mimetype": "text/x-python",
   "name": "python",
   "nbconvert_exporter": "python",
   "pygments_lexer": "ipython2",
   "version": "2.7.6"
  }
 },
 "nbformat": 4,
 "nbformat_minor": 0
}